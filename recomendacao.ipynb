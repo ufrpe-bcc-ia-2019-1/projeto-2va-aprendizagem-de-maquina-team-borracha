{
  "nbformat": 4,
  "nbformat_minor": 0,
  "metadata": {
    "colab": {
      "name": "recomendacao.ipynb",
      "version": "0.3.2",
      "provenance": [],
      "collapsed_sections": [],
      "toc_visible": true
    },
    "kernelspec": {
      "name": "python3",
      "display_name": "Python 3"
    }
  },
  "cells": [
    {
      "cell_type": "markdown",
      "metadata": {
        "id": "kRcOrTqO_sEU",
        "colab_type": "text"
      },
      "source": [
        "**Universidade Federal Rural de Pernambuco**  \n",
        "Departamento de Computação  \n",
        "Disciplina: Inteligência Artificial  \n",
        "Docente: André Câmara  \n",
        "Discentes: Edilson Alves e Marcelino Chagas  "
      ]
    },
    {
      "cell_type": "markdown",
      "metadata": {
        "id": "6wtUX31H_uyO",
        "colab_type": "text"
      },
      "source": [
        "### <center>Projeto 2ª VA - Aprendizagem de Máquina</center>\n",
        "### <center>Sistema de Recomendação de Filmes</center>"
      ]
    },
    {
      "cell_type": "markdown",
      "metadata": {
        "id": "A_6ByV2-DPLy",
        "colab_type": "text"
      },
      "source": [
        "### Preparação dos Dados"
      ]
    },
    {
      "cell_type": "markdown",
      "metadata": {
        "id": "eHV8jiWwBq4j",
        "colab_type": "text"
      },
      "source": [
        "#### 01. Carregamento"
      ]
    },
    {
      "cell_type": "code",
      "metadata": {
        "id": "ws9Xct4lBXVs",
        "colab_type": "code",
        "colab": {}
      },
      "source": [
        "import pandas as pd\n",
        "import numpy as np\n",
        "import matplotlib.pyplot as plt\n",
        "\n",
        "ratings = pd.read_csv('ratings.csv', sep='\\t', encoding='latin-1', usecols=['user_id', 'movie_id', 'rating'])\n",
        "users = pd.read_csv('users.csv', sep='\\t', encoding='latin-1', usecols=['user_id', 'gender', 'zipcode', 'age_desc', 'occ_desc'])\n",
        "movies = pd.read_csv('movies.csv', sep='\\t', encoding='latin-1', usecols=['movie_id', 'title', 'genres'])"
      ],
      "execution_count": 0,
      "outputs": []
    },
    {
      "cell_type": "markdown",
      "metadata": {
        "id": "9Dzmc0kqDgKU",
        "colab_type": "text"
      },
      "source": [
        "#### 02. Visualização"
      ]
    },
    {
      "cell_type": "code",
      "metadata": {
        "id": "pOmju--ECGj2",
        "colab_type": "code",
        "outputId": "5344a931-c7a6-469f-f945-e0b8f67fe317",
        "colab": {
          "base_uri": "https://localhost:8080/",
          "height": 119
        }
      },
      "source": [
        "print(ratings.head())"
      ],
      "execution_count": 0,
      "outputs": [
        {
          "output_type": "stream",
          "text": [
            "   user_id  movie_id  rating\n",
            "0        1      1193       5\n",
            "1        1       661       3\n",
            "2        1       914       3\n",
            "3        1      3408       4\n",
            "4        1      2355       5\n"
          ],
          "name": "stdout"
        }
      ]
    },
    {
      "cell_type": "code",
      "metadata": {
        "id": "GhJKbm-zCUTn",
        "colab_type": "code",
        "outputId": "68d4dde4-c281-46ce-a659-4ef1ddb1c1c6",
        "colab": {
          "base_uri": "https://localhost:8080/",
          "height": 119
        }
      },
      "source": [
        "print(users.head())"
      ],
      "execution_count": 0,
      "outputs": [
        {
          "output_type": "stream",
          "text": [
            "   user_id gender zipcode  age_desc              occ_desc\n",
            "0        1      F   48067  Under 18          K-12 student\n",
            "1        2      M   70072       56+         self-employed\n",
            "2        3      M   55117     25-34             scientist\n",
            "3        4      M   02460     45-49  executive/managerial\n",
            "4        5      M   55455     25-34                writer\n"
          ],
          "name": "stdout"
        }
      ]
    },
    {
      "cell_type": "code",
      "metadata": {
        "id": "9g7O0EVhCV2B",
        "colab_type": "code",
        "outputId": "8cd63195-b32c-40e9-d312-b037cc4f1ed9",
        "colab": {
          "base_uri": "https://localhost:8080/",
          "height": 119
        }
      },
      "source": [
        "print(movies.head())"
      ],
      "execution_count": 0,
      "outputs": [
        {
          "output_type": "stream",
          "text": [
            "   movie_id                               title                        genres\n",
            "0         1                    Toy Story (1995)   Animation|Children's|Comedy\n",
            "1         2                      Jumanji (1995)  Adventure|Children's|Fantasy\n",
            "2         3             Grumpier Old Men (1995)                Comedy|Romance\n",
            "3         4            Waiting to Exhale (1995)                  Comedy|Drama\n",
            "4         5  Father of the Bride Part II (1995)                        Comedy\n"
          ],
          "name": "stdout"
        }
      ]
    },
    {
      "cell_type": "markdown",
      "metadata": {
        "id": "vM24Zhy2CmmX",
        "colab_type": "text"
      },
      "source": [
        "### Modelo de Recomendação Baseado em Conteúdo"
      ]
    },
    {
      "cell_type": "markdown",
      "metadata": {
        "id": "kkd6rjSOC6YW",
        "colab_type": "text"
      },
      "source": [
        "#### 01. Implementação"
      ]
    },
    {
      "cell_type": "code",
      "metadata": {
        "id": "YcxJxiogCtgD",
        "colab_type": "code",
        "colab": {}
      },
      "source": [
        "movies['genres'] = movies['genres'].str.split('|')\n",
        "movies['genres'] = movies['genres'].fillna(\"\").astype('str')"
      ],
      "execution_count": 0,
      "outputs": []
    },
    {
      "cell_type": "code",
      "metadata": {
        "id": "2F-uucbYDDAh",
        "colab_type": "code",
        "outputId": "34d5a216-b759-4e14-da06-be2813fca082",
        "colab": {
          "base_uri": "https://localhost:8080/",
          "height": 34
        }
      },
      "source": [
        "# Transforma o texto bruto em uma matrix de recursos do TD-IDF\n",
        "from sklearn.feature_extraction.text import TfidfVectorizer\n",
        "\n",
        "tf = TfidfVectorizer(analyzer='word', ngram_range=(1, 2), min_df=0, stop_words='english')\n",
        "tfidf_matrix = tf.fit_transform(movies['genres'])\n",
        "tfidf_matrix.shape"
      ],
      "execution_count": 0,
      "outputs": [
        {
          "output_type": "execute_result",
          "data": {
            "text/plain": [
              "(3883, 127)"
            ]
          },
          "metadata": {
            "tags": []
          },
          "execution_count": 8
        }
      ]
    },
    {
      "cell_type": "code",
      "metadata": {
        "id": "OCJGA7q-EFuL",
        "colab_type": "code",
        "outputId": "48641b8d-3ee3-4a16-8a1d-ac3195a6ae4e",
        "colab": {
          "base_uri": "https://localhost:8080/",
          "height": 85
        }
      },
      "source": [
        "# Calcula a similaridade dos valores da matrix\n",
        "from sklearn.metrics.pairwise import cosine_similarity\n",
        "\n",
        "cosine_sim = cosine_similarity(tfidf_matrix, tfidf_matrix)\n",
        "cosine_sim[:4, :4]"
      ],
      "execution_count": 0,
      "outputs": [
        {
          "output_type": "execute_result",
          "data": {
            "text/plain": [
              "array([[1.        , 0.14193614, 0.09010857, 0.1056164 ],\n",
              "       [0.14193614, 1.        , 0.        , 0.        ],\n",
              "       [0.09010857, 0.        , 1.        , 0.1719888 ],\n",
              "       [0.1056164 , 0.        , 0.1719888 , 1.        ]])"
            ]
          },
          "metadata": {
            "tags": []
          },
          "execution_count": 9
        }
      ]
    },
    {
      "cell_type": "code",
      "metadata": {
        "id": "UjE1ejVGEOA8",
        "colab_type": "code",
        "colab": {}
      },
      "source": [
        "titles = movies['title']\n",
        "indices = pd.Series(movies.index, index=movies['title'])\n",
        "\n",
        "def genre_recommendations(title):\n",
        "    idx = indices[title]\n",
        "    sim_scores = list(enumerate(cosine_sim[idx]))\n",
        "    sim_scores = sorted(sim_scores, key=lambda x: x[1], reverse=True)\n",
        "    sim_scores = sim_scores[1:21]\n",
        "    movie_indices = [i[0] for i in sim_scores]\n",
        "    \n",
        "    return titles.iloc[movie_indices]"
      ],
      "execution_count": 0,
      "outputs": []
    },
    {
      "cell_type": "code",
      "metadata": {
        "id": "eI6C48l7EZd0",
        "colab_type": "code",
        "outputId": "ab4e542e-5d78-443d-9102-946bc80ec956",
        "colab": {
          "base_uri": "https://localhost:8080/",
          "height": 374
        }
      },
      "source": [
        "genre_recommendations('Toy Story (1995)').head(20)"
      ],
      "execution_count": 0,
      "outputs": [
        {
          "output_type": "execute_result",
          "data": {
            "text/plain": [
              "1050               Aladdin and the King of Thieves (1996)\n",
              "2072                             American Tail, An (1986)\n",
              "2073           American Tail: Fievel Goes West, An (1991)\n",
              "2285                            Rugrats Movie, The (1998)\n",
              "2286                                 Bug's Life, A (1998)\n",
              "3045                                   Toy Story 2 (1999)\n",
              "3542                                Saludos Amigos (1943)\n",
              "3682                                   Chicken Run (2000)\n",
              "3685       Adventures of Rocky and Bullwinkle, The (2000)\n",
              "236                                 Goofy Movie, A (1995)\n",
              "12                                           Balto (1995)\n",
              "241                               Gumby: The Movie (1995)\n",
              "310                             Swan Princess, The (1994)\n",
              "592                                      Pinocchio (1940)\n",
              "612                                Aristocats, The (1970)\n",
              "700                               Oliver & Company (1988)\n",
              "876     Land Before Time III: The Time of the Great Gi...\n",
              "1010          Winnie the Pooh and the Blustery Day (1968)\n",
              "1012                       Sword in the Stone, The (1963)\n",
              "1020                        Fox and the Hound, The (1981)\n",
              "Name: title, dtype: object"
            ]
          },
          "metadata": {
            "tags": []
          },
          "execution_count": 11
        }
      ]
    },
    {
      "cell_type": "markdown",
      "metadata": {
        "id": "2xyjsZyqEvL-",
        "colab_type": "text"
      },
      "source": [
        "### Collaborative Filtering Recommendation Model"
      ]
    },
    {
      "cell_type": "markdown",
      "metadata": {
        "id": "URgFK55BEyby",
        "colab_type": "text"
      },
      "source": [
        "#### 01. Implementação"
      ]
    },
    {
      "cell_type": "code",
      "metadata": {
        "id": "d6clbm63MR0y",
        "colab_type": "code",
        "colab": {}
      },
      "source": [
        "ratings['user_id'] = ratings['user_id'].fillna(0)\n",
        "ratings['movie_id'] = ratings['movie_id'].fillna(0)\n",
        "ratings['rating'] = ratings['rating'].fillna(ratings['rating'].mean())"
      ],
      "execution_count": 0,
      "outputs": []
    },
    {
      "cell_type": "code",
      "metadata": {
        "id": "nKAQvqmEMeFr",
        "colab_type": "code",
        "colab": {}
      },
      "source": [
        "# Amostra Aleatória dos dados\n",
        "from sklearn.model_selection import train_test_split\n",
        "\n",
        "# Verificando as informações da Amostra\n",
        "small_data = ratings.sample(frac=0.02)\n",
        "train_data, test_data = train_test_split(small_data, test_size=0.2)"
      ],
      "execution_count": 0,
      "outputs": []
    },
    {
      "cell_type": "code",
      "metadata": {
        "id": "_d6ZWfJ6NQGQ",
        "colab_type": "code",
        "outputId": "925d461d-f321-4c2b-af0d-485a127cc4ff",
        "colab": {
          "base_uri": "https://localhost:8080/",
          "height": 170
        }
      },
      "source": [
        "print(small_data.info())"
      ],
      "execution_count": 0,
      "outputs": [
        {
          "output_type": "stream",
          "text": [
            "<class 'pandas.core.frame.DataFrame'>\n",
            "Int64Index: 11132 entries, 447267 to 23104\n",
            "Data columns (total 3 columns):\n",
            "user_id     11132 non-null int64\n",
            "movie_id    11132 non-null int64\n",
            "rating      11132 non-null int64\n",
            "dtypes: int64(3)\n",
            "memory usage: 347.9 KB\n",
            "None\n"
          ],
          "name": "stdout"
        }
      ]
    },
    {
      "cell_type": "code",
      "metadata": {
        "id": "QZG_x-NfNwsJ",
        "colab_type": "code",
        "outputId": "e9bfab44-413f-4559-e3ab-47403e25e3a8",
        "colab": {
          "base_uri": "https://localhost:8080/",
          "height": 170
        }
      },
      "source": [
        "print(train_data.info())"
      ],
      "execution_count": 0,
      "outputs": [
        {
          "output_type": "stream",
          "text": [
            "<class 'pandas.core.frame.DataFrame'>\n",
            "Int64Index: 8905 entries, 43769 to 252909\n",
            "Data columns (total 3 columns):\n",
            "user_id     8905 non-null int64\n",
            "movie_id    8905 non-null int64\n",
            "rating      8905 non-null int64\n",
            "dtypes: int64(3)\n",
            "memory usage: 278.3 KB\n",
            "None\n"
          ],
          "name": "stdout"
        }
      ]
    },
    {
      "cell_type": "code",
      "metadata": {
        "id": "5xQuzdMWNxOU",
        "colab_type": "code",
        "outputId": "ffdacb29-7a63-4780-cd36-dce56767f9eb",
        "colab": {
          "base_uri": "https://localhost:8080/",
          "height": 170
        }
      },
      "source": [
        "print(test_data.info())"
      ],
      "execution_count": 0,
      "outputs": [
        {
          "output_type": "stream",
          "text": [
            "<class 'pandas.core.frame.DataFrame'>\n",
            "Int64Index: 2227 entries, 373719 to 467788\n",
            "Data columns (total 3 columns):\n",
            "user_id     2227 non-null int64\n",
            "movie_id    2227 non-null int64\n",
            "rating      2227 non-null int64\n",
            "dtypes: int64(3)\n",
            "memory usage: 69.6 KB\n",
            "None\n"
          ],
          "name": "stdout"
        }
      ]
    },
    {
      "cell_type": "code",
      "metadata": {
        "id": "OxBKxMj1OJoq",
        "colab_type": "code",
        "outputId": "c4ec6880-61bd-4a15-8b6f-b4c353b538cb",
        "colab": {
          "base_uri": "https://localhost:8080/",
          "height": 119
        }
      },
      "source": [
        "# Dividir o dados dos arquivo em dois conjuntos \n",
        "# Um para teste e outro para treinamento\n",
        "\n",
        "# \n",
        "train_data_matrix = train_data.as_matrix(columns = ['user_id', 'movie_id', 'rating'])\n",
        "test_data_matrix = test_data.as_matrix(columns = ['user_id', 'movie_id', 'rating'])\n",
        "\n",
        "print(train_data_matrix.shape)\n",
        "print(test_data_matrix.shape)"
      ],
      "execution_count": 0,
      "outputs": [
        {
          "output_type": "stream",
          "text": [
            "(8905, 3)\n",
            "(2227, 3)\n"
          ],
          "name": "stdout"
        },
        {
          "output_type": "stream",
          "text": [
            "/usr/local/lib/python3.6/dist-packages/ipykernel_launcher.py:1: FutureWarning: Method .as_matrix will be removed in a future version. Use .values instead.\n",
            "  \"\"\"Entry point for launching an IPython kernel.\n",
            "/usr/local/lib/python3.6/dist-packages/ipykernel_launcher.py:2: FutureWarning: Method .as_matrix will be removed in a future version. Use .values instead.\n",
            "  \n"
          ],
          "name": "stderr"
        }
      ]
    },
    {
      "cell_type": "code",
      "metadata": {
        "id": "DntzF3cbS_cv",
        "colab_type": "code",
        "outputId": "481485e5-6bb7-4304-957a-6ef6f55516eb",
        "colab": {
          "base_uri": "https://localhost:8080/",
          "height": 85
        }
      },
      "source": [
        "# Coeficiente de Pearson\n",
        "# Para obter Matrizes de distancia como entrada\n",
        "from sklearn.metrics.pairwise import pairwise_distances\n",
        "\n",
        "# Correlação de Usuario\n",
        "user_correlation = 1 - pairwise_distances(train_data, metric='correlation')\n",
        "user_correlation[np.isnan(user_correlation)] = 0\n",
        "print(user_correlation[:4, :4])"
      ],
      "execution_count": 0,
      "outputs": [
        {
          "output_type": "stream",
          "text": [
            "[[1.         0.4651499  0.99760575 0.77747625]\n",
            " [0.4651499  1.         0.52525674 0.91837625]\n",
            " [0.99760575 0.52525674 1.         0.81910884]\n",
            " [0.77747625 0.91837625 0.81910884 1.        ]]\n"
          ],
          "name": "stdout"
        }
      ]
    },
    {
      "cell_type": "code",
      "metadata": {
        "id": "-BAs2ZHXT1rf",
        "colab_type": "code",
        "outputId": "4512d916-1bf7-4b54-e8e8-2ec43826af0c",
        "colab": {
          "base_uri": "https://localhost:8080/",
          "height": 68
        }
      },
      "source": [
        "# Correlação de Item\n",
        "item_correlation = 1 - pairwise_distances(train_data_matrix.T, metric='correlation')\n",
        "item_correlation[np.isnan(item_correlation)] = 0\n",
        "print(item_correlation[:4, :4])"
      ],
      "execution_count": 0,
      "outputs": [
        {
          "output_type": "stream",
          "text": [
            "[[ 1.00000000e+00  5.74491964e-04  8.43611291e-03]\n",
            " [ 5.74491964e-04  1.00000000e+00 -7.14301791e-02]\n",
            " [ 8.43611291e-03 -7.14301791e-02  1.00000000e+00]]\n"
          ],
          "name": "stdout"
        }
      ]
    },
    {
      "cell_type": "markdown",
      "metadata": {
        "id": "rcpexALKY8YW",
        "colab_type": "text"
      },
      "source": [
        "Para o caso CF usuário-usuário, será observado a similaridade entre dois usuários (A e B, por exemplo) como pesos que são multiplicados pelas classificações de um usuário semelhante B (corrigido para a classificação média desse usuário). Também será necessário normalizá-lo para que as classificações fiquem entre 1 e 5 e, como etapa final, some as classificações médias do usuário que se está tentando prever. A ideia aqui é que alguns usuários tendem a sempre dar classificações altas ou baixas a todos os filmes. A diferença relativa nas classificações que esses usuários fornecem é mais importante que os valores absolutos."
      ]
    },
    {
      "cell_type": "code",
      "metadata": {
        "id": "nK78g-IfT5Fy",
        "colab_type": "code",
        "colab": {}
      },
      "source": [
        "# Funcao para prever classificacoes\n",
        "def predict(ratings, similarity, type='user'):\n",
        "    if type == 'user':\n",
        "        mean_user_rating = ratings.mean(axis=1)\n",
        "        # Use np.newaxis para que mean_user_rating tenha o mesmo formato das classificacoes\n",
        "        ratings_diff = (ratings - mean_user_rating[:, np.newaxis])\n",
        "        pred = mean_user_rating[:, np.newaxis] + similarity.dot(ratings_diff) / np.array([np.abs(similarity).sum(axis=1)]).T\n",
        "    elif type == 'item':\n",
        "        pred = ratings.dot(similarity) / np.array([np.abs(similarity).sum(axis=1)])\n",
        "    \n",
        "    return pred"
      ],
      "execution_count": 0,
      "outputs": []
    },
    {
      "cell_type": "markdown",
      "metadata": {
        "id": "RifCVor_T_4u",
        "colab_type": "text"
      },
      "source": [
        "### Avaliação"
      ]
    },
    {
      "cell_type": "code",
      "metadata": {
        "id": "dM958dkpUDmv",
        "colab_type": "code",
        "colab": {}
      },
      "source": [
        "# Funcao para calcular o RMSE\n",
        "from sklearn.metrics import mean_squared_error\n",
        "from math import sqrt\n",
        "\n",
        "def rmse(pred, actual):\n",
        "    pred = pred[actual.nonzero()].flatten()\n",
        "    actual = actual[actual.nonzero()].flatten()\n",
        "    \n",
        "    return sqrt(mean_squared_error(pred, actual))"
      ],
      "execution_count": 0,
      "outputs": []
    },
    {
      "cell_type": "code",
      "metadata": {
        "id": "TaJMfQdxUIsD",
        "colab_type": "code",
        "colab": {}
      },
      "source": [
        "user_prediction = predict(train_data_matrix, user_correlation, type='user')\n",
        "item_prediction = predict(train_data_matrix, item_correlation, type='item')"
      ],
      "execution_count": 0,
      "outputs": []
    },
    {
      "cell_type": "code",
      "metadata": {
        "id": "PU8qBa-xUL8G",
        "colab_type": "code",
        "outputId": "1e7a8efd-08c8-4908-d44d-32df4c77e836",
        "colab": {
          "base_uri": "https://localhost:8080/",
          "height": 51
        }
      },
      "source": [
        "print('User-based CF RMSE: ' + str(rmse(user_prediction, train_data_matrix)))\n",
        "print('Item-based CF RMSE: ' + str(rmse(item_prediction, train_data_matrix)))"
      ],
      "execution_count": 0,
      "outputs": [
        {
          "output_type": "stream",
          "text": [
            "User-based CF RMSE: 485.54641905164584\n",
            "Item-based CF RMSE: 113.82270163462687\n"
          ],
          "name": "stdout"
        }
      ]
    },
    {
      "cell_type": "code",
      "metadata": {
        "colab_type": "code",
        "id": "-kp7TPnDZIBE",
        "outputId": "3b4c810e-40e7-4f1c-dee9-28dd7bc0cd8e",
        "colab": {
          "base_uri": "https://localhost:8080/",
          "height": 51
        }
      },
      "source": [
        "print('User-based CF RMSE: ' + str(rmse(user_prediction, test_data_matrix)))\n",
        "print('Item-based CF RMSE: ' + str(rmse(item_prediction, test_data_matrix)))"
      ],
      "execution_count": 0,
      "outputs": [
        {
          "output_type": "stream",
          "text": [
            "User-based CF RMSE: 1028.4185661656109\n",
            "Item-based CF RMSE: 1189.5282868195768\n"
          ],
          "name": "stdout"
        }
      ]
    }
  ]
}