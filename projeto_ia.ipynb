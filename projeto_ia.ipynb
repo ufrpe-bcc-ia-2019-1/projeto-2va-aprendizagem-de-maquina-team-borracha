{
  "nbformat": 4,
  "nbformat_minor": 0,
  "metadata": {
    "colab": {
      "name": "projeto-ia.ipynb",
      "version": "0.3.2",
      "provenance": [],
      "collapsed_sections": []
    },
    "kernelspec": {
      "name": "python3",
      "display_name": "Python 3"
    }
  },
  "cells": [
    {
      "cell_type": "markdown",
      "metadata": {
        "id": "7c_KArSN-RIM",
        "colab_type": "text"
      },
      "source": [
        "**Universidade Federal Rural de Pernambuco**  \n",
        "Departamento de Computação  \n",
        "Disciplina: Inteligência Artificial  \n",
        "Docente: André Câmara  \n",
        "Discentes: Edilson Alves e Marcelino Chagas  "
      ]
    },
    {
      "cell_type": "markdown",
      "metadata": {
        "id": "bR_nbxzAC7iV",
        "colab_type": "text"
      },
      "source": [
        "### <center>Projeto 2ª VA - Aprendizagem de Máquina</center>\n",
        "### <center>Sistema de Recomendação de Filmes</center>"
      ]
    },
    {
      "cell_type": "markdown",
      "metadata": {
        "id": "z_cKW9WwJDoT",
        "colab_type": "text"
      },
      "source": [
        "#### 01. Importações"
      ]
    },
    {
      "cell_type": "code",
      "metadata": {
        "id": "DgJ3WWazJCHY",
        "colab_type": "code",
        "colab": {}
      },
      "source": [
        "from math import sqrt"
      ],
      "execution_count": 0,
      "outputs": []
    },
    {
      "cell_type": "markdown",
      "metadata": {
        "id": "ZY8KRjVWJZgz",
        "colab_type": "text"
      },
      "source": [
        "#### 02. Carregamento do Dataset (MovieLens)"
      ]
    },
    {
      "cell_type": "code",
      "metadata": {
        "id": "jd8hwYF0DuWO",
        "colab_type": "code",
        "cellView": "both",
        "colab": {}
      },
      "source": [
        "#@title\n",
        "def carregar_dataset():\n",
        "    filmes = {}\n",
        "    base = {}\n",
        "    \n",
        "    for linha in open('u.item', encoding = 'ISO-8859-1'):\n",
        "        (id, titulo) = linha.split('|')[0:2]\n",
        "        filmes[id] = titulo\n",
        "    \n",
        "    for linha in open('u.data', encoding = 'ISO-8859-1'):\n",
        "        (usuario, id_filme, nota, tempo) = linha.split('\\t')\n",
        "        base.setdefault(usuario, {})\n",
        "        base[usuario][filmes[id_filme]] = float(nota)\n",
        "    \n",
        "    return base"
      ],
      "execution_count": 0,
      "outputs": []
    },
    {
      "cell_type": "code",
      "metadata": {
        "id": "H1XhFEy7Fc88",
        "colab_type": "code",
        "colab": {}
      },
      "source": [
        "base = carregar_dataset()"
      ],
      "execution_count": 0,
      "outputs": []
    },
    {
      "cell_type": "code",
      "metadata": {
        "id": "Vk5_kflvLGdq",
        "colab_type": "code",
        "colab": {}
      },
      "source": [
        "base['5']"
      ],
      "execution_count": 0,
      "outputs": []
    },
    {
      "cell_type": "markdown",
      "metadata": {
        "id": "6STaN2NvKQEB",
        "colab_type": "text"
      },
      "source": [
        "#### 03. Obtenção da Distância Euclidiana"
      ]
    },
    {
      "cell_type": "code",
      "metadata": {
        "id": "f4IOHdRPpTYQ",
        "colab_type": "code",
        "colab": {}
      },
      "source": [
        "def obter_distancia(base, usuario1, usuario2):\n",
        "    similares = {}\n",
        "    \n",
        "    for filme in base[usuario1]:\n",
        "        if filme in base[usuario2]:\n",
        "            similares[filme] = 1\n",
        "    \n",
        "    if len(similares) == 0:\n",
        "        return 0\n",
        "    \n",
        "    soma = sum([pow(base[usuario1][filme] - base[usuario2][filme], 2)\n",
        "                for filme in base[usuario1] if filme in base[usuario2]])\n",
        "    \n",
        "    return 1/(1 + sqrt(soma))"
      ],
      "execution_count": 0,
      "outputs": []
    },
    {
      "cell_type": "code",
      "metadata": {
        "id": "21Ss9Qjgs9Qx",
        "colab_type": "code",
        "colab": {}
      },
      "source": [
        "obter_distancia(base, '1', '100')"
      ],
      "execution_count": 0,
      "outputs": []
    },
    {
      "cell_type": "markdown",
      "metadata": {
        "id": "5nGLjovFN7Cr",
        "colab_type": "text"
      },
      "source": [
        "#### 04. Obtenção das Similaridades Por Nota"
      ]
    },
    {
      "cell_type": "code",
      "metadata": {
        "id": "pCQXFgq4xh2j",
        "colab_type": "code",
        "colab": {}
      },
      "source": [
        "def obter_similaridade(base, usuario):\n",
        "    similaridade = [(obter_distancia(base, usuario, outro), outro)\n",
        "                    for outro in base if outro != usuario]\n",
        "    similaridade.sort()\n",
        "    similaridade.reverse()\n",
        "    \n",
        "    return similaridade"
      ],
      "execution_count": 0,
      "outputs": []
    },
    {
      "cell_type": "code",
      "metadata": {
        "id": "4xn0iZ4iydjT",
        "colab_type": "code",
        "colab": {}
      },
      "source": [
        "obter_similaridade(base, '3')[0:30]"
      ],
      "execution_count": 0,
      "outputs": []
    },
    {
      "cell_type": "markdown",
      "metadata": {
        "id": "nKoSrgbCP5OP",
        "colab_type": "text"
      },
      "source": [
        "#### 05. Obtenção das Recomendações dos Filmes não Assistidos"
      ]
    },
    {
      "cell_type": "code",
      "metadata": {
        "id": "DnIyT-wqNAjd",
        "colab_type": "code",
        "colab": {}
      },
      "source": [
        "def obter_recomendacao(base, usuario):\n",
        "    totais = {}\n",
        "    soma_similaridade = {}\n",
        "    \n",
        "    for outro in base:\n",
        "        if outro == usuario:\n",
        "            continue\n",
        "        \n",
        "        similaridade = obter_distancia(base, usuario, outro)\n",
        "        \n",
        "        if similaridade == 0:\n",
        "            continue\n",
        "        \n",
        "        for filme in base[outro]:\n",
        "            if filme not in base[usuario]:\n",
        "                totais.setdefault(filme, 0)\n",
        "                totais[filme] += base[outro][filme] * similaridade\n",
        "                soma_similaridade.setdefault(filme, 0)\n",
        "                soma_similaridade[filme] += similaridade\n",
        "    \n",
        "    recomendacao = [(total / soma_similaridade[filme], filme) for filme, total in totais.items()]\n",
        "    recomendacao.sort()\n",
        "    recomendacao.reverse()\n",
        "    \n",
        "    return recomendacao"
      ],
      "execution_count": 0,
      "outputs": []
    },
    {
      "cell_type": "markdown",
      "metadata": {
        "id": "ImQu1o_yACDv",
        "colab_type": "text"
      },
      "source": [
        "####06. Teste\n"
      ]
    },
    {
      "cell_type": "code",
      "metadata": {
        "id": "kE9cx0vDPtbH",
        "colab_type": "code",
        "colab": {}
      },
      "source": [
        "obter_recomendacao(base, '1')[0:15]"
      ],
      "execution_count": 0,
      "outputs": []
    }
  ]
}